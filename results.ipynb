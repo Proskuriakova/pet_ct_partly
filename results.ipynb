{
 "cells": [
  {
   "cell_type": "code",
   "execution_count": 41,
   "metadata": {},
   "outputs": [],
   "source": [
    "from sklearn.cluster import AgglomerativeClustering\n",
    "import scipy.cluster.hierarchy as sch\n"
   ]
  },
  {
   "cell_type": "code",
   "execution_count": 42,
   "metadata": {},
   "outputs": [],
   "source": [
    "import matplotlib.pyplot as plt\n",
    "%matplotlib inline"
   ]
  },
  {
   "cell_type": "code",
   "execution_count": 43,
   "metadata": {},
   "outputs": [],
   "source": [
    "import numpy as np\n",
    "with open('results/text_embeddings_2ch_gr.npy', 'rb') as f:\n",
    "    texts_embeds_aug = np.load(f)\n",
    "    \n",
    "import numpy as np\n",
    "with open('results/image_embeddings_2ch_gr.npy', 'rb') as f:\n",
    "    images_embeds_aug = np.load(f)\n",
    "    "
   ]
  },
  {
   "cell_type": "code",
   "execution_count": 44,
   "metadata": {},
   "outputs": [],
   "source": [
    "my_file = open(\"results/names_2ch_gr.txt\", \"r\")\n",
    "  \n",
    "# reading the file\n",
    "names_raw = my_file.read().split('\\n')"
   ]
  },
  {
   "cell_type": "code",
   "execution_count": 56,
   "metadata": {},
   "outputs": [],
   "source": [
    "import json\n",
    "with open('names_dict.json', 'r') as f:\n",
    "    names_d = json.loads(f.read())\n",
    "names_d_inv = dict(zip(names_d.values(), names_d.keys()))"
   ]
  },
  {
   "cell_type": "code",
   "execution_count": 57,
   "metadata": {},
   "outputs": [],
   "source": [
    "names_raw = [names_raw[i] for i in range(len(names_raw)) if names_raw[i]!='']\n",
    "names_raw = [names_d_inv[str(int(float(names_raw[i])))] for i in range(len(names_raw))]"
   ]
  },
  {
   "cell_type": "code",
   "execution_count": 70,
   "metadata": {},
   "outputs": [],
   "source": [
    "from sklearn.manifold import TSNE\n",
    "import seaborn as sns\n",
    "\n",
    "tsne = TSNE()\n",
    "X_embedded = tsne.fit_transform(images_embeds_aug)\n"
   ]
  },
  {
   "cell_type": "code",
   "execution_count": 71,
   "metadata": {
    "tags": []
   },
   "outputs": [],
   "source": [
    "cluster_model = AgglomerativeClustering(affinity = 'cosine', linkage = 'complete', n_clusters=4\n",
    "                                       )\n",
    "\n",
    "labels = cluster_model.fit_predict(images_embeds_aug)\n"
   ]
  },
  {
   "cell_type": "code",
   "execution_count": 72,
   "metadata": {},
   "outputs": [
    {
     "name": "stderr",
     "output_type": "stream",
     "text": [
      "/data/proskuryakova/.local/lib/python3.6/site-packages/seaborn/_decorators.py:43: FutureWarning: Pass the following variables as keyword args: x, y. From version 0.12, the only valid positional argument will be `data`, and passing other arguments without an explicit keyword will result in an error or misinterpretation.\n",
      "  FutureWarning\n"
     ]
    },
    {
     "data": {
      "text/plain": [
       "<AxesSubplot:>"
      ]
     },
     "execution_count": 72,
     "metadata": {},
     "output_type": "execute_result"
    },
    {
     "data": {
      "image/png": "[encoded data removed]",
      "text/plain": [
       "<Figure size 432x288 with 1 Axes>"
      ]
     },
     "metadata": {},
     "output_type": "display_data"
    }
   ],
   "source": [
    "palette = sns.color_palette(\"bright\", 4)\n",
    "sns.scatterplot(X_embedded[:,0], X_embedded[:,1], hue=labels, legend='full', palette = palette)\n"
   ]
  },
  {
   "cell_type": "code",
   "execution_count": 121,
   "metadata": {
    "tags": []
   },
   "outputs": [],
   "source": [
    "from scipy import spatial\n",
    "def top_5_similar(embeds1, embeds2):\n",
    "    sims_img = []\n",
    "    for i in range(embeds1.shape[0]):\n",
    "        sim_i = []\n",
    "        for j in range(embeds2.shape[0]):\n",
    "            sim_i.append(spatial.distance.cosine(embeds1[i], \n",
    "                                                 embeds2[j]))\n",
    "        sims_img.append(sim_i)\n",
    "        \n",
    "    top_5_img = [sorted(sims_img[i], reverse = False)[:6] for i in range(len(sims_img))]\n",
    "    ind_top5_img = []\n",
    "    for i in range(len(top_5_img)):\n",
    "        ind_i = []\n",
    "        for j in range(len(sims_img[i])):\n",
    "            if sims_img[i][j] in top_5_img[i]:\n",
    "                ind_i.append(j)\n",
    "        ind_top5_img.append([i,ind_i])\n",
    "    return ind_top5_img"
   ]
  },
  {
   "cell_type": "code",
   "execution_count": 123,
   "metadata": {},
   "outputs": [],
   "source": [
    "def acc_at_k(sims, k = 5):\n",
    "    cnt = 0\n",
    "    for i in range(len(sims)):\n",
    "        if sims[i][0] in sims[i][1][:k]:\n",
    "            cnt += 1\n",
    "    return cnt/len(sims)\n",
    "    "
   ]
  },
  {
   "cell_type": "code",
   "execution_count": 124,
   "metadata": {},
   "outputs": [
    {
     "data": {
      "text/plain": [
       "0.8260869565217391"
      ]
     },
     "execution_count": 124,
     "metadata": {},
     "output_type": "execute_result"
    }
   ],
   "source": [
    "top5 = top_5_similar(images_embeds_aug, texts_embeds_aug)\n",
    "acc_at_k(top5)\n"
   ]
  },
  {
   "cell_type": "code",
   "execution_count": 126,
   "metadata": {},
   "outputs": [
    {
     "data": {
      "text/plain": [
       "(0.17391304347826086, 0.532608695652174)"
      ]
     },
     "execution_count": 126,
     "metadata": {},
     "output_type": "execute_result"
    }
   ],
   "source": [
    "acc_at_k(top5, k=1), acc_at_k(top5, k=3)"
   ]
  },
  {
   "cell_type": "code",
   "execution_count": 65,
   "metadata": {
    "tags": []
   },
   "outputs": [],
   "source": [
    "import re\n",
    "divided = True\n",
    "diagnoses = []\n",
    "for i in range(len(names_raw)):\n",
    "    text_path = '/data/burenko/datasets/pet-ct' + '/' + names_raw[i] + '.txt.txt'\n",
    "    with open(text_path) as f:\n",
    "        text = f.read().rstrip().replace('\\n', ' ')\n",
    "        text = re.sub( r'[\\(\\)]', '', text).replace('  ', ' ')\n",
    "\n",
    "    titles = ['Пол:', '{}.*?{}'.format('Область головы', 'шеи:'),\n",
    "    'Органы грудной клетки:', 'Органы брюшной полости:', 'Органы малого таза:',\n",
    "    'Костная система:', 'Диагноз по МКБ-10:']\n",
    "    last_title = 'Выполнение диагностической услуги:'\n",
    "\n",
    "    if divided:\n",
    "        divided_text = []\n",
    "        for j in range(len(titles)):\n",
    "            if j < len(titles)-1:\n",
    "\n",
    "                pat = re.compile('{}(.*){}'.format(titles[j], titles[j+1]))\n",
    "            else:\n",
    "                pat = re.compile('{}(.*){}'.format(titles[j], last_title))\n",
    "            sent = pat.findall(text)\n",
    "            divided_text.append(''.join(sent).strip())\n",
    "    diagnoses.append(divided_text[2])\n"
   ]
  },
  {
   "cell_type": "code",
   "execution_count": 66,
   "metadata": {},
   "outputs": [
    {
     "data": {
      "text/plain": [
       "'В области корня правого легкого определяется объемное образование неправильной формы, суживающее просветы долевых и сегментарных бронхов размерами 48х40х70мм, активно накапливающее ФДГ, SUVmax=9,62. Отмечаются метаболически активные лимфатические узлы: -бифуркационные максимальным размером 35х26 мм, $У\\\\Мтах=9,62. -паравазально максимальным размером 26х26 мм, $\\\\\\\\/тах=7,06. -надключичные максимальные размеры до 25х16 мм, 5У\\\\тах=11,13 -подключичные размерами 17x26mm, SUVmax=10,97 -подмышечные размерами 15х23мм, $У\\\\тах=7,41. В перикардиальной полости определяется наличие выпота, толщиной до 30 мм. В плевральных полостях определяется свободная жидкость: толщиной справа до 55 мм, слева до 25 мм. Отмечаются метаболически активные очаги литического характера в рукоятке и теле грудины, размерами 25х18 мм, SUVmax=9,94 и 16х19мм, $У\\\\/тах=9,94. Также отмечаются множественные очаги гиперфиксации в шейных, грудных и поясничных телах позвонков $У\\\\Мтах=9,04. Определяются метастатические очаги в мягких тканях спины, левой кисти, передней стенки грудной клетки.'"
      ]
     },
     "execution_count": 66,
     "metadata": {},
     "output_type": "execute_result"
    }
   ],
   "source": [
    "diagnoses[0]"
   ]
  },
  {
   "cell_type": "code",
   "execution_count": 128,
   "metadata": {},
   "outputs": [
    {
     "data": {
      "text/plain": [
       "'В над- и подключичной области с 2-х сторон л/узлы не увеличены. В верхней доле левого легкого определяется объемное образование неправильной формы, с участками распада, прорастающее междолевую плевру, размерами 61х72х82мм, активно накапливающее РФП, $/\\\\Мтах=19,70. В базальных отделах правого легкого субплеврально определяется очаговое образование, размерами 8,5х10мм, без наличия метаболической активности, вероятно вторичной природы. Также отмечаются метаболически активные лимфатические узлы: - Паратрахеальные размерами 16х17мм, 5/\\\\Утах=9,40 - паравазальные размерами 13х8мм, $У\\\\Утах=7,87 - корня левого легкого размерами 13х13мм, 5/\\\\тах=12,74 Средостение не смещено и не расширено. В плевральных полостях и полости перикарда экссудата нет.'"
      ]
     },
     "execution_count": 128,
     "metadata": {},
     "output_type": "execute_result"
    }
   ],
   "source": [
    "diagnoses[12]"
   ]
  },
  {
   "cell_type": "code",
   "execution_count": null,
   "metadata": {},
   "outputs": [],
   "source": []
  }
 ],
 "metadata": {
  "kernelspec": {
   "display_name": "Python 3",
   "language": "python",
   "name": "python3"
  },
  "language_info": {
   "codemirror_mode": {
    "name": "ipython",
    "version": 3
   },
   "file_extension": ".py",
   "mimetype": "text/x-python",
   "name": "python",
   "nbconvert_exporter": "python",
   "pygments_lexer": "ipython3",
   "version": "3.6.9"
  }
 },
 "nbformat": 4,
 "nbformat_minor": 4
}
